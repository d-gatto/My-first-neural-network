{
 "cells": [
  {
   "cell_type": "code",
   "execution_count": 5,
   "id": "92036194-4c5e-4864-ab24-70dfeb589481",
   "metadata": {},
   "outputs": [],
   "source": [
    "import pandas as pd\n",
    "import numpy as np\n",
    "#import os\n",
    "#os.chdir('C:\\\\Users\\\\shane\\\\Dropbox')\n",
    "#os.getcwd()"
   ]
  },
  {
   "cell_type": "code",
   "execution_count": 66,
   "id": "6f803d39-309c-4bc6-ae7a-55cc991d296e",
   "metadata": {
    "tags": []
   },
   "outputs": [
    {
     "data": {
      "text/html": [
       "<div>\n",
       "<style scoped>\n",
       "    .dataframe tbody tr th:only-of-type {\n",
       "        vertical-align: middle;\n",
       "    }\n",
       "\n",
       "    .dataframe tbody tr th {\n",
       "        vertical-align: top;\n",
       "    }\n",
       "\n",
       "    .dataframe thead th {\n",
       "        text-align: right;\n",
       "    }\n",
       "</style>\n",
       "<table border=\"1\" class=\"dataframe\">\n",
       "  <thead>\n",
       "    <tr style=\"text-align: right;\">\n",
       "      <th></th>\n",
       "      <th>Function</th>\n",
       "      <th>x</th>\n",
       "      <th>y</th>\n",
       "      <th>True/False</th>\n",
       "    </tr>\n",
       "  </thead>\n",
       "  <tbody>\n",
       "    <tr>\n",
       "      <th>0</th>\n",
       "      <td>Sine</td>\n",
       "      <td>25.9904</td>\n",
       "      <td>0.41138</td>\n",
       "      <td>1</td>\n",
       "    </tr>\n",
       "    <tr>\n",
       "      <th>1</th>\n",
       "      <td>Sine</td>\n",
       "      <td>-37.9738</td>\n",
       "      <td>0.0214318</td>\n",
       "      <td>1</td>\n",
       "    </tr>\n",
       "    <tr>\n",
       "      <th>2</th>\n",
       "      <td>Sine</td>\n",
       "      <td>-15.8054</td>\n",
       "      <td>-0.242215</td>\n",
       "      <td>1</td>\n",
       "    </tr>\n",
       "    <tr>\n",
       "      <th>3</th>\n",
       "      <td>Sine</td>\n",
       "      <td>-15.7934</td>\n",
       "      <td>-0.365133</td>\n",
       "      <td>1</td>\n",
       "    </tr>\n",
       "    <tr>\n",
       "      <th>4</th>\n",
       "      <td>Sine</td>\n",
       "      <td>-36.9476</td>\n",
       "      <td>0.631592</td>\n",
       "      <td>1</td>\n",
       "    </tr>\n",
       "  </tbody>\n",
       "</table>\n",
       "</div>"
      ],
      "text/plain": [
       "  Function        x          y  True/False\n",
       "0     Sine  25.9904    0.41138           1\n",
       "1     Sine -37.9738  0.0214318           1\n",
       "2     Sine -15.8054  -0.242215           1\n",
       "3     Sine -15.7934  -0.365133           1\n",
       "4     Sine -36.9476   0.631592           1"
      ]
     },
     "execution_count": 66,
     "metadata": {},
     "output_type": "execute_result"
    }
   ],
   "source": [
    "data = pd.read_csv(\"TrainingData.csv\")\n",
    "data.head()"
   ]
  },
  {
   "cell_type": "code",
   "execution_count": 61,
   "id": "bf37ce07-3ae8-45fc-bfef-07bea20c3270",
   "metadata": {},
   "outputs": [],
   "source": [
    "#First layer\n",
    "w11_1 = 1\n",
    "Dw11_1 = 0\n",
    "w11_2 = 1\n",
    "Dw11_2 = 0\n",
    "b11 = 0\n",
    "Db11 = 0\n",
    "w21_1 = 1\n",
    "Dw21_1 = 0\n",
    "w21_2 = 1\n",
    "Dw21_2 = 0\n",
    "b21 = 0\n",
    "Db21 = 0\n",
    "w31_1 = 1\n",
    "Dw31_1 = 0\n",
    "w31_2 = 1\n",
    "Dw31_2 = 0\n",
    "b31 = 0\n",
    "Db31 = 0\n",
    "w41_1 = 1\n",
    "Dw41_1 = 0\n",
    "w41_2 = 1\n",
    "Dw41_2 = 0\n",
    "b41 = 0\n",
    "Db41 = 0\n",
    "w51_1 = 1\n",
    "Dw51_1 = 0\n",
    "w51_2 = 1\n",
    "Dw51_2 = 0\n",
    "b51 = 0\n",
    "Db51 = 0\n",
    "#Second layer\n",
    "w12_1 = 1\n",
    "Dw12_1 = 0\n",
    "w12_2 = 1\n",
    "Dw12_2 = 0\n",
    "w12_3 = 1\n",
    "Dw12_3 = 0\n",
    "w12_4 = 1\n",
    "Dw12_4 = 0\n",
    "w12_5 = 1\n",
    "Dw12_5 = 0\n",
    "b12 = 0\n",
    "Db12 = 0\n",
    "w22_1 = 1\n",
    "Dw22_1 = 0\n",
    "w22_2 = 1\n",
    "Dw22_2 = 1\n",
    "w22_3 = 1\n",
    "Dw22_3 = 0\n",
    "w22_4 = 1\n",
    "Dw22_4 = 0\n",
    "w22_5 = 1\n",
    "Dw22_5 = 0\n",
    "b22 = 0\n",
    "Db22 = 0\n",
    "w32_1 = 1\n",
    "Dw32_1 = 0\n",
    "w32_2 = 1\n",
    "Dw32_2 = 0\n",
    "w32_3 = 1\n",
    "Dw32_3 = 0\n",
    "w32_4 = 1\n",
    "Dw32_4 = 0\n",
    "w32_5 = 1\n",
    "Dw32_5 = 0\n",
    "b32 = 0\n",
    "Db32 = 0\n",
    "#Third layer\n",
    "w13_1 = 1\n",
    "Dw13_1 = 0\n",
    "w13_2 = 1\n",
    "Dw13_2 = 0\n",
    "w13_3 = 1\n",
    "Dw13_3 = 0\n",
    "b13 = 0\n",
    "Db13 = 0"
   ]
  },
  {
   "cell_type": "code",
   "execution_count": 6,
   "id": "e8f6efc0-929d-400a-8950-d035fadf74dd",
   "metadata": {},
   "outputs": [],
   "source": [
    "#Initializing nodes\n",
    "s = .01\n",
    "def sigma(z):\n",
    "    return 1/(1 + np.exp(-z))\n",
    "def N11(x,y):\n",
    "    return sigma(w11_1*x + w11_2*y + b11)\n",
    "def N21(x,y):\n",
    "    return sigma(w21_1*x + w21_2*y + b21)\n",
    "def N31(x,y):\n",
    "    return sigma(w31_1*x + w31_2*y + b31)\n",
    "def N41(x,y):\n",
    "    return sigma(w41_1*x + w41_2*y + b41)\n",
    "def N51(x,y):\n",
    "    return sigma(w51_1*x + w51_2*y + b51)\n",
    "def N12(x,y):\n",
    "    return sigma(w12_1*N11(x,y) + w12_2*N21(x,y) + w12_3*N31(x,y) + w12_4*N41(x,y) + w12_5*N51(x,y) + b12)\n",
    "def N22(x,y):\n",
    "    return sigma(w22_1*N11(x,y) + w22_2*N21(x,y) + w22_3*N31(x,y) + w22_4*N41(x,y) + w22_5*N51(x,y) + b22)\n",
    "def N32(z1,z2,z3,z4,z5):\n",
    "    return sigma(w32_1*N11(x,y) + w32_2*N21(x,y) + w32_3*N31(x,y) + w32_4*N41(x,y) + w32_5*N51(x,y) + b32)\n",
    "def N31(z1,z2,z3):\n",
    "    return sigma(w13_1*N12(x,y) + w13_2*N22(x,y) + w13_3*N32(x,y) + b13)"
   ]
  },
  {
   "cell_type": "code",
   "execution_count": 60,
   "id": "7c916d51-9654-42d8-b658-dbc7303db036",
   "metadata": {},
   "outputs": [
    {
     "data": {
      "text/plain": [
       "0.8807970779778823"
      ]
     },
     "execution_count": 60,
     "metadata": {},
     "output_type": "execute_result"
    }
   ],
   "source": [
    "for j in range(1000):\n",
    "    Db13 = Db13 + np.exp(w13_1*N12(data.at[j,\"x\"],data.at[j,\"y\"])+w13_2*N22(data.at[j,\"x\"],data.at[j,\"y\"])+w13_3*N32(data.at[j,\"x\"],data.at[j,\"y\"])-b13)*(data.at[j,\"True/False\"]-N13(data.at[j,\"x\"],data.at[j,\"y\"]))/(1-N13(data.at[j,\"x\"],data.at[j,\"y\"]))*N13(data.at[j,\"x\"],data.at[j,\"y\"])\n",
    "    Dw13_1 = Dw13_1 + Db13*N12(data.at[j,\"x\"],data.at[j,\"y\"])\n",
    "    Dw13_2 = Dw13_2 + Db13*N22(data.at[j,\"x\"],data.at[j,\"y\"])\n",
    "    Dw13_3 = Dw13_3 + Db13*N32(data.at[j,\"x\"],data.at[j,\"y\"])\n",
    "    Db12 = Db12 - Db13*np.exp(w12_1*N11(data.at[j,\"x\"],data.at[j,\"y\"])+w12_2*N21(data.at[j,\"x\"],data.at[j,\"y\"])+w12_3*N31(data.at[j,\"x\"],data.at[j,\"y\"])+w12_4*N41(data.at[j,\"x\"],data.at[j,\"y\"])+w12_5*N51(data.at[j,\"x\"],data.at[j,\"y\"])-b12)*w13_1*N12(data.at[j,\"x\"],data.at[j,\"y\"])**2\n",
    "    \n",
    "    Db22 = Db22 - Db13*np.exp(w22_1*N11(data.at[j,\"x\"],data.at[j,\"y\"])+w22_2*N21(data.at[j,\"x\"],data.at[j,\"y\"])+w22_3*N31(data.at[j,\"x\"],data.at[j,\"y\"])+w22_4*N41(data.at[j,\"x\"],data.at[j,\"y\"])+w22_5*N51(data.at[j,\"x\"],data.at[j,\"y\"])-b22)*w13_2*N22(data.at[j,\"x\"],data.at[j,\"y\"])**2\n",
    "    \n",
    "    Db32 = Db32 - Db13*np.exp(w32_1*N11(data.at[j,\"x\"],data.at[j,\"y\"])+w32_2*N21(data.at[j,\"x\"],data.at[j,\"y\"])+w32_3*N31(data.at[j,\"x\"],data.at[j,\"y\"])+w32_4*N41(data.at[j,\"x\"],data.at[j,\"y\"])+w32_5*N51(data.at[j,\"x\"],data.at[j,\"y\"])-b32)*w13_3*N32(data.at[j,\"x\"],data.at[j,\"y\"])**2"
   ]
  },
  {
   "cell_type": "code",
   "execution_count": 11,
   "id": "4e01dd5f-910b-4e25-996c-d8bd2dfb35de",
   "metadata": {},
   "outputs": [
    {
     "data": {
      "text/plain": [
       "0.7758034925743758"
      ]
     },
     "execution_count": 11,
     "metadata": {},
     "output_type": "execute_result"
    }
   ],
   "source": [
    "sigma(2)**2"
   ]
  },
  {
   "cell_type": "code",
   "execution_count": 10,
   "id": "a8faab48-b366-4c6f-88bd-8f31488027cc",
   "metadata": {},
   "outputs": [
    {
     "data": {
      "text/plain": [
       "0.7758034925743758"
      ]
     },
     "execution_count": 10,
     "metadata": {},
     "output_type": "execute_result"
    }
   ],
   "source": [
    "0.8807970779778823**2"
   ]
  },
  {
   "cell_type": "code",
   "execution_count": 16,
   "id": "6529310e-62b8-4c30-9b77-93f734a2588e",
   "metadata": {},
   "outputs": [
    {
     "data": {
      "text/plain": [
       "96"
      ]
     },
     "execution_count": 16,
     "metadata": {},
     "output_type": "execute_result"
    }
   ],
   "source": [
    "2*4**2*3"
   ]
  },
  {
   "cell_type": "code",
   "execution_count": null,
   "id": "c538cd4f-8fbd-4ea6-92c2-0071ccae4e81",
   "metadata": {},
   "outputs": [],
   "source": []
  }
 ],
 "metadata": {
  "kernelspec": {
   "display_name": "Python 3",
   "language": "python",
   "name": "python3"
  },
  "language_info": {
   "codemirror_mode": {
    "name": "ipython",
    "version": 3
   },
   "file_extension": ".py",
   "mimetype": "text/x-python",
   "name": "python",
   "nbconvert_exporter": "python",
   "pygments_lexer": "ipython3",
   "version": "3.8.8"
  }
 },
 "nbformat": 4,
 "nbformat_minor": 5
}
